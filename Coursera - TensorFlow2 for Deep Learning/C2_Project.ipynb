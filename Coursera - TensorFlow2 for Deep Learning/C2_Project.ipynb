{
  "cells": [
    {
      "cell_type": "code",
      "source": [
        "from google.colab import drive\n",
        "drive.mount('/content/drive')\n",
        "!cp -r /content/drive/MyDrive/data .\n",
        "!cp -r /content/drive/MyDrive/models ."
      ],
      "metadata": {
        "colab": {
          "base_uri": "https://localhost:8080/"
        },
        "id": "XYITGsglc963",
        "outputId": "b56b4edb-da67-4019-dab7-b56cbf9c31f9"
      },
      "execution_count": null,
      "outputs": [
        {
          "output_type": "stream",
          "name": "stdout",
          "text": [
            "Drive already mounted at /content/drive; to attempt to forcibly remount, call drive.mount(\"/content/drive\", force_remount=True).\n"
          ]
        }
      ]
    },
    {
      "cell_type": "markdown",
      "metadata": {
        "id": "Fp4KDMDec5a6"
      },
      "source": [
        "# Capstone Project\n",
        "## Neural translation model\n",
        "### Instructions\n",
        "\n",
        "In this notebook, you will create a neural network that translates from English to German. You will use concepts from throughout this course, including building more flexible model architectures, freezing layers, data processing pipeline and sequence modelling.\n",
        "\n",
        "This project is peer-assessed. Within this notebook you will find instructions in each section for how to complete the project. Pay close attention to the instructions as the peer review will be carried out according to a grading rubric that checks key parts of the project instructions. Feel free to add extra cells into the notebook as required.\n",
        "\n",
        "### How to submit\n",
        "\n",
        "When you have completed the Capstone project notebook, you will submit a pdf of the notebook for peer review. First ensure that the notebook has been fully executed from beginning to end, and all of the cell outputs are visible. This is important, as the grading rubric depends on the reviewer being able to view the outputs of your notebook. Save the notebook as a pdf (File -> Download as -> PDF via LaTeX). You should then submit this pdf for review.\n",
        "\n",
        "### Let's get started!\n",
        "\n",
        "We'll start by running some imports, and loading the dataset. For this project you are free to make further imports throughout the notebook as you wish."
      ]
    },
    {
      "cell_type": "code",
      "execution_count": null,
      "metadata": {
        "id": "L5RH6onRc5a8"
      },
      "outputs": [],
      "source": [
        "import tensorflow as tf\n",
        "import tensorflow_hub as hub\n",
        "import unicodedata\n",
        "import re"
      ]
    },
    {
      "cell_type": "markdown",
      "metadata": {
        "id": "keCGbeOjc5a9"
      },
      "source": [
        "![germany_uk_flags.png](https://drive.google.com/uc?export=view&id=18fc4Ld5WQOznyclArnFwiMTE7UVUvdxy)\n",
        "\n",
        "\n",
        "For the capstone project, you will use a language dataset from http://www.manythings.org/anki/ to build a neural translation model. This dataset consists of over 200,000 pairs of sentences in English and German. In order to make the training quicker, we will restrict to our dataset to 20,000 pairs. Feel free to change this if you wish - the size of the dataset used is not part of the grading rubric.\n",
        "\n",
        "Your goal is to develop a neural translation model from English to German, making use of a pre-trained English word embedding module."
      ]
    },
    {
      "cell_type": "code",
      "execution_count": null,
      "metadata": {
        "id": "5SfM25g4c5a9"
      },
      "outputs": [],
      "source": [
        "# Run this cell to load the dataset\n",
        "\n",
        "NUM_EXAMPLES = 20000\n",
        "data_examples = []\n",
        "with open('data/deu.txt', 'r', encoding='utf8') as f:\n",
        "    for line in f.readlines():\n",
        "        if len(data_examples) < NUM_EXAMPLES:\n",
        "            data_examples.append(line)\n",
        "        else:\n",
        "            break"
      ]
    },
    {
      "cell_type": "code",
      "execution_count": null,
      "metadata": {
        "id": "eHuzTZ2oc5a-"
      },
      "outputs": [],
      "source": [
        "# These functions preprocess English and German sentences\n",
        "\n",
        "def unicode_to_ascii(s):\n",
        "    return ''.join(c for c in unicodedata.normalize('NFD', s) if unicodedata.category(c) != 'Mn')\n",
        "\n",
        "def preprocess_sentence(sentence):\n",
        "    sentence = sentence.lower().strip()\n",
        "    sentence = re.sub(r\"ü\", 'ue', sentence)\n",
        "    sentence = re.sub(r\"ä\", 'ae', sentence)\n",
        "    sentence = re.sub(r\"ö\", 'oe', sentence)\n",
        "    sentence = re.sub(r'ß', 'ss', sentence)\n",
        "\n",
        "    sentence = unicode_to_ascii(sentence)\n",
        "    sentence = re.sub(r\"([?.!,])\", r\" \\1 \", sentence)\n",
        "    sentence = re.sub(r\"[^a-z?.!,']+\", \" \", sentence)\n",
        "    sentence = re.sub(r'[\" \"]+', \" \", sentence)\n",
        "\n",
        "    return sentence.strip()"
      ]
    },
    {
      "cell_type": "markdown",
      "metadata": {
        "id": "adSKfueec5a-"
      },
      "source": [
        "#### The custom translation model\n",
        "The following is a schematic of the custom translation model architecture you will develop in this project.\n",
        "\n",
        "![Model Schematic](https://drive.google.com/uc?export=view&id=1mMiVmaPmaPhK5MIe76STyhQGOTscQ0Dv)\n",
        "\n",
        "Key:\n",
        "![Model key](https://drive.google.com/uc?export=view&id=1AQ-ro_TisuQrfEF24FQoAwMvVirJ4p_h)\n",
        "\n",
        "The custom model consists of an encoder RNN and a decoder RNN. The encoder takes words of an English sentence as input, and uses a pre-trained word embedding to embed the words into a 128-dimensional space. To indicate the end of the input sentence, a special end token (in the same 128-dimensional space) is passed in as an input. This token is a TensorFlow Variable that is learned in the training phase (unlike the pre-trained word embedding, which is frozen).\n",
        "\n",
        "The decoder RNN takes the internal state of the encoder network as its initial state. A start token is passed in as the first input, which is embedded using a learned German word embedding. The decoder RNN then makes a prediction for the next German word, which during inference is then passed in as the following input, and this process is repeated until the special `<end>` token is emitted from the decoder."
      ]
    },
    {
      "cell_type": "markdown",
      "metadata": {
        "id": "WEIHwc7Jc5a-"
      },
      "source": [
        "## 1. Text preprocessing\n",
        "* Create separate lists of English and German sentences, and preprocess them using the `preprocess_sentence` function provided for you above.\n",
        "* Add a special `\"<start>\"` and `\"<end>\"` token to the beginning and end of every German sentence.\n",
        "* Use the Tokenizer class from the `tf.keras.preprocessing.text` module to tokenize the German sentences, ensuring that no character filters are applied. _Hint: use the Tokenizer's \"filter\" keyword argument._\n",
        "* Print out at least 5 randomly chosen examples of (preprocessed) English and German sentence pairs. For the German sentence, print out the text (with start and end tokens) as well as the tokenized sequence.\n",
        "\n",
        "* Pad the end of the tokenized German sequences with zeros, and batch the complete set of sequences into one numpy array."
      ]
    },
    {
      "cell_type": "code",
      "execution_count": null,
      "metadata": {
        "scrolled": true,
        "id": "Ki5hqinYc5a-",
        "colab": {
          "base_uri": "https://localhost:8080/"
        },
        "outputId": "a4029570-506e-48e4-e014-46a35c51c026"
      },
      "outputs": [
        {
          "output_type": "stream",
          "name": "stdout",
          "text": [
            "Hi.\tHallo!\tCC-BY 2.0 (France) Attribution: tatoeba.org #538123 (CM) & #380701 (cburgmer)\n",
            "\n",
            "Hi.\tGrüß Gott!\tCC-BY 2.0 (France) Attribution: tatoeba.org #538123 (CM) & #659813 (Esperantostern)\n",
            "\n",
            "Run!\tLauf!\tCC-BY 2.0 (France) Attribution: tatoeba.org #906328 (papabear) & #941078 (Fingerhut)\n",
            "\n",
            "Wow!\tPotzdonner!\tCC-BY 2.0 (France) Attribution: tatoeba.org #52027 (Zifre) & #2122382 (Pfirsichbaeumchen)\n",
            "\n",
            "Wow!\tDonnerwetter!\tCC-BY 2.0 (France) Attribution: tatoeba.org #52027 (Zifre) & #2122391 (Pfirsichbaeumchen)\n",
            "\n",
            "['Hi.', 'Hallo!', 'CC-BY 2.0 (France) Attribution: tatoeba.org #538123 (CM) & #380701 (cburgmer)\\n']\n"
          ]
        }
      ],
      "source": [
        "# Look for data structure\n",
        "print('\\n'.join(data_examples[:5]))\n",
        "print(data_examples[0].split(\"\\t\"))"
      ]
    },
    {
      "cell_type": "code",
      "execution_count": null,
      "metadata": {
        "id": "98HB3iVJc5a_",
        "colab": {
          "base_uri": "https://localhost:8080/"
        },
        "outputId": "55f2b327-1aa4-4b92-dc66-34bba1ba2a46"
      },
      "outputs": [
        {
          "output_type": "stream",
          "name": "stdout",
          "text": [
            "['Hi.' 'Hi.' 'Run!' 'Wow!' 'Wow!'] ['Hallo!' 'Grüß Gott!' 'Lauf!' 'Potzdonner!' 'Donnerwetter!']\n"
          ]
        }
      ],
      "source": [
        "import numpy as np\n",
        "\n",
        "# So data is separated by tabs, lets split and vectorize\n",
        "data = np.array([item.split(\"\\t\")[:2] for item in data_examples])\n",
        "english_sentences, german_sentences = data[:,0], data[:,1]\n",
        "print(english_sentences[:5], german_sentences[:5])"
      ]
    },
    {
      "cell_type": "code",
      "execution_count": null,
      "metadata": {
        "id": "X1Za5MaEc5a_"
      },
      "outputs": [],
      "source": [
        "# Now that we can recognize sentences, lets preprocess them\n",
        "def apply_processing(array):\n",
        "    for item_id, item in enumerate(array):\n",
        "        array[item_id] = preprocess_sentence(item)\n",
        "    return array\n",
        "\n",
        "english_sentences = apply_processing(english_sentences)\n",
        "german_sentences = apply_processing(german_sentences)"
      ]
    },
    {
      "cell_type": "code",
      "execution_count": null,
      "metadata": {
        "id": "iWuVOj6Fc5bA",
        "colab": {
          "base_uri": "https://localhost:8080/"
        },
        "outputId": "7cf8ff38-800a-4f52-d21c-33eb5d78f979"
      },
      "outputs": [
        {
          "output_type": "stream",
          "name": "stdout",
          "text": [
            "['hi .' 'hi .' 'run !' 'wow !' 'wow !'] ['hallo !' 'gruess gott !' 'lauf !' 'potzdonner !' 'donnerwetter !']\n"
          ]
        }
      ],
      "source": [
        "# Compare processed data\n",
        "print(english_sentences[:5], german_sentences[:5])"
      ]
    },
    {
      "cell_type": "code",
      "execution_count": null,
      "metadata": {
        "id": "7vWoz-5cc5bA",
        "colab": {
          "base_uri": "https://localhost:8080/"
        },
        "outputId": "bb4f0e36-e4a9-4155-c504-2ef212f1a292"
      },
      "outputs": [
        {
          "output_type": "stream",
          "name": "stdout",
          "text": [
            "['<start> hallo ! <end>' '<start> gruess gott ! <end>'\n",
            " '<start> lauf ! <end>' '<start> potzdonner ! <end>'\n",
            " '<start> donnerwetter ! <end>']\n"
          ]
        }
      ],
      "source": [
        "# Now add special start and end tags to target language sentences (German)\n",
        "for item_id, item in enumerate(german_sentences):\n",
        "    german_sentences[item_id] = \"<start> \" + item + \" <end>\"\n",
        "\n",
        "print(german_sentences[:5])"
      ]
    },
    {
      "cell_type": "code",
      "execution_count": null,
      "metadata": {
        "id": "Qa0mpylzc5bA"
      },
      "outputs": [],
      "source": [
        "from tensorflow.keras.preprocessing.text import Tokenizer\n",
        "\n",
        "# Create German tokenizer and transform texts\n",
        "german_tokenizer = Tokenizer(filters=\"\")\n",
        "german_tokenizer.fit_on_texts(german_sentences)\n",
        "tokenized_german_sentences = german_tokenizer.texts_to_sequences(german_sentences)"
      ]
    },
    {
      "cell_type": "code",
      "execution_count": null,
      "metadata": {
        "id": "qvB5NMzKc5bA",
        "colab": {
          "base_uri": "https://localhost:8080/"
        },
        "outputId": "3a6ef8f1-bbdc-43fa-81d1-54d679c7bda9"
      },
      "outputs": [
        {
          "output_type": "stream",
          "name": "stdout",
          "text": [
            "\n",
            "\n",
            "== SENTENCE ==\n",
            "English: give me some milk .\n",
            "German (raw): <start> gib mir ein bisschen milch . <end>\n",
            "German (tokenized): [1, 93, 21, 19, 607, 431, 3, 2]\n",
            "\n",
            "\n",
            "== SENTENCE ==\n",
            "English: he let us go .\n",
            "German (raw): <start> er liess uns gehen . <end>\n",
            "German (tokenized): [1, 14, 435, 31, 45, 3, 2]\n",
            "\n",
            "\n",
            "== SENTENCE ==\n",
            "English: seriously ?\n",
            "German (raw): <start> wirklich ? <end>\n",
            "German (tokenized): [1, 285, 7, 2]\n",
            "\n",
            "\n",
            "== SENTENCE ==\n",
            "English: how tall you are !\n",
            "German (raw): <start> wie gross du bist ! <end>\n",
            "German (tokenized): [1, 42, 167, 13, 32, 9, 2]\n",
            "\n",
            "\n",
            "== SENTENCE ==\n",
            "English: tom runs fast .\n",
            "German (raw): <start> tom rennt schnell . <end>\n",
            "German (tokenized): [1, 5, 726, 127, 3, 2]\n"
          ]
        },
        {
          "output_type": "stream",
          "name": "stderr",
          "text": [
            "/usr/local/lib/python3.10/dist-packages/numpy/core/fromnumeric.py:43: VisibleDeprecationWarning: Creating an ndarray from ragged nested sequences (which is a list-or-tuple of lists-or-tuples-or ndarrays with different lengths or shapes) is deprecated. If you meant to do this, you must specify 'dtype=object' when creating the ndarray.\n",
            "  result = getattr(asarray(obj), method)(*args, **kwds)\n"
          ]
        }
      ],
      "source": [
        "# Sample some sentences and see results\n",
        "num_sentences = len(english_sentences)\n",
        "sample_size = 5\n",
        "\n",
        "indices = np.random.choice(list(range(num_sentences)), size=sample_size, replace=False)\n",
        "english_sample = np.take(english_sentences, indices)\n",
        "german_sample = np.take(german_sentences, indices)\n",
        "tokenized_sample = np.take(tokenized_german_sentences, indices)\n",
        "\n",
        "for i in range(sample_size):\n",
        "    print(\"\\n\\n== SENTENCE ==\")\n",
        "    print(\"English: \", end=\"\")\n",
        "    print(english_sample[i])\n",
        "\n",
        "    print(\"German (raw): \", end=\"\")\n",
        "    print(german_sample[i])\n",
        "\n",
        "    print(\"German (tokenized): \", end=\"\")\n",
        "    print(tokenized_sample[i])"
      ]
    },
    {
      "cell_type": "code",
      "execution_count": null,
      "metadata": {
        "id": "Xup7JoTJc5bA",
        "colab": {
          "base_uri": "https://localhost:8080/"
        },
        "outputId": "f3bcc9a2-5de4-4749-b103-264b421a97b3"
      },
      "outputs": [
        {
          "output_type": "stream",
          "name": "stdout",
          "text": [
            "[[   1  405    9    2    0    0    0    0    0    0    0    0    0    0]\n",
            " [   1 3155  663    9    2    0    0    0    0    0    0    0    0    0]\n",
            " [   1  975    9    2    0    0    0    0    0    0    0    0    0    0]\n",
            " [   1 3156    9    2    0    0    0    0    0    0    0    0    0    0]\n",
            " [   1 3157    9    2    0    0    0    0    0    0    0    0    0    0]]\n"
          ]
        }
      ],
      "source": [
        "# Pad all sequences\n",
        "from tensorflow.keras.preprocessing.sequence import pad_sequences\n",
        "\n",
        "padded_german_sequences = np.array(pad_sequences(\n",
        "    tokenized_german_sentences,\n",
        "    padding=\"post\",\n",
        "    value=0.0\n",
        "))\n",
        "\n",
        "print(padded_german_sequences[:5])"
      ]
    },
    {
      "cell_type": "markdown",
      "metadata": {
        "id": "9j3ifvqRc5bA"
      },
      "source": [
        "## 2. Prepare the data with tf.data.Dataset objects"
      ]
    },
    {
      "cell_type": "markdown",
      "metadata": {
        "id": "GW6QLYPYc5bB"
      },
      "source": [
        "#### Load the embedding layer\n",
        "As part of the dataset preproceessing for this project, you will use a pre-trained English word embedding module from TensorFlow Hub. The URL for the module is https://tfhub.dev/google/tf2-preview/nnlm-en-dim128-with-normalization/1. This module has also been made available as a complete saved model in the folder `'./models/tf2-preview_nnlm-en-dim128_1'`.\n",
        "\n",
        "This embedding takes a batch of text tokens in a 1-D tensor of strings as input. It then embeds the separate tokens into a 128-dimensional space.\n",
        "\n",
        "The code to load and test the embedding layer is provided for you below.\n",
        "\n",
        "**NB:** this model can also be used as a sentence embedding module. The module will process each token by removing punctuation and splitting on spaces. It then averages the word embeddings over a sentence to give a single embedding vector. However, we will use it only as a word embedding module, and will pass each word in the input sentence as a separate token."
      ]
    },
    {
      "cell_type": "code",
      "execution_count": null,
      "metadata": {
        "id": "jOMA5ZAEc5bB"
      },
      "outputs": [],
      "source": [
        "# Load embedding module from Tensorflow Hub\n",
        "english_embedding_size = 128\n",
        "embedding_layer = hub.KerasLayer(\"./models/tf2-preview_nnlm-en-dim128_1\",\n",
        "                                 output_shape=[english_embedding_size], input_shape=[], dtype=tf.string)"
      ]
    },
    {
      "cell_type": "code",
      "execution_count": null,
      "metadata": {
        "id": "Hs4CKjn9c5bB",
        "colab": {
          "base_uri": "https://localhost:8080/"
        },
        "outputId": "c72e2322-bc2c-4594-b901-94fa198cb82b"
      },
      "outputs": [
        {
          "output_type": "execute_result",
          "data": {
            "text/plain": [
              "TensorShape([7, 128])"
            ]
          },
          "metadata": {},
          "execution_count": 119
        }
      ],
      "source": [
        "# Test the layer\n",
        "\n",
        "embedding_layer(tf.constant([\"these\", \"aren't\", \"the\", \"droids\", \"you're\", \"looking\", \"for\"])).shape"
      ]
    },
    {
      "cell_type": "markdown",
      "metadata": {
        "id": "LLpJfPxnc5bB"
      },
      "source": [
        "You should now prepare the training and validation Datasets.\n",
        "\n",
        "* Create a random training and validation set split of the data, reserving e.g. 20% of the data for validation (NB: each English dataset example is a single sentence string, and each German dataset example is a sequence of padded integer tokens).\n",
        "* Load the training and validation sets into a tf.data.Dataset object, passing in a tuple of English and German data for both training and validation sets.\n",
        "* Create a function to map over the datasets that splits each English sentence at spaces. Apply this function to both Dataset objects using the map method. _Hint: look at the tf.strings.split function._\n",
        "* Create a function to map over the datasets that embeds each sequence of English words using the loaded embedding layer/model. Apply this function to both Dataset objects using the map method.\n",
        "* Create a function to filter out dataset examples where the English sentence is more than 13 (embedded) tokens in length. Apply this function to both Dataset objects using the filter method.\n",
        "* Create a function to map over the datasets that pads each English sequence of embeddings with some distinct padding value before the sequence, so that each sequence is length 13. Apply this function to both Dataset objects using the map method. _Hint: look at the tf.pad function. You can extract a Tensor shape using tf.shape; you might also find the tf.math.maximum function useful._\n",
        "* Batch both training and validation Datasets with a batch size of 16.\n",
        "* Print the `element_spec` property for the training and validation Datasets.\n",
        "* Using the Dataset `.take(1)` method, print the shape of the English data example from the training Dataset.\n",
        "* Using the Dataset `.take(1)` method, print the German data example Tensor from the validation Dataset."
      ]
    },
    {
      "cell_type": "code",
      "execution_count": null,
      "metadata": {
        "id": "B3K-X-0hc5bB"
      },
      "outputs": [],
      "source": [
        "from sklearn.model_selection import train_test_split\n",
        "\n",
        "# Split data\n",
        "train_english, test_english, train_german, test_german = train_test_split(\n",
        "    english_sentences, padded_german_sequences, shuffle=True,\n",
        "    test_size=0.2\n",
        ")"
      ]
    },
    {
      "cell_type": "code",
      "execution_count": null,
      "metadata": {
        "id": "X0VQFmEmc5bB"
      },
      "outputs": [],
      "source": [
        "# Create tensorflow datasets from data\n",
        "train_dataset = tf.data.Dataset.from_tensor_slices((train_english, train_german))\n",
        "validation_dataset = tf.data.Dataset.from_tensor_slices((test_english, test_german))"
      ]
    },
    {
      "cell_type": "code",
      "execution_count": null,
      "metadata": {
        "id": "lxaiXgqic5bB"
      },
      "outputs": [],
      "source": [
        "# Separate english words\n",
        "def split_english_sentences(dataset):\n",
        "    def split_sentence(english_sentence, german_sequence):\n",
        "        return tf.strings.split(english_sentence), german_sequence\n",
        "\n",
        "    return dataset.map(split_sentence)\n",
        "\n",
        "train_dataset = split_english_sentences(train_dataset)\n",
        "validation_dataset = split_english_sentences(validation_dataset)"
      ]
    },
    {
      "cell_type": "code",
      "execution_count": null,
      "metadata": {
        "id": "vy7pIv8nc5bB"
      },
      "outputs": [],
      "source": [
        "# Embed english sequences\n",
        "def embed_english_sentences(dataset):\n",
        "    def embed_sentence(english_words, german_sequence):\n",
        "        return embedding_layer(english_words), german_sequence\n",
        "\n",
        "    return dataset.map(embed_sentence)\n",
        "\n",
        "train_dataset = embed_english_sentences(train_dataset)\n",
        "validation_dataset = embed_english_sentences(validation_dataset)"
      ]
    },
    {
      "cell_type": "code",
      "execution_count": null,
      "metadata": {
        "id": "hwgTUEY2c5bB"
      },
      "outputs": [],
      "source": [
        "sequence_length = 13\n",
        "\n",
        "# Remove sequences with more than 13 items\n",
        "def remove_long_sequences(dataset):\n",
        "    def filter_sequences(english_sequence, german_sequence):\n",
        "        return len(english_sequence) <= sequence_length\n",
        "    return dataset.filter(filter_sequences)\n",
        "\n",
        "train_dataset = remove_long_sequences(train_dataset)\n",
        "validation_dataset = remove_long_sequences(validation_dataset)"
      ]
    },
    {
      "cell_type": "code",
      "execution_count": null,
      "metadata": {
        "id": "bip6Lx52c5bB"
      },
      "outputs": [],
      "source": [
        "# Embed english sequences\n",
        "constant_value_mask = 0\n",
        "\n",
        "def pad_english_sequences(dataset):\n",
        "    def pad_sequences(english_sequence, german_sequence):\n",
        "        # Add the maximum number of zeros at start, then slice\n",
        "        paddings = tf.constant([[sequence_length,0],[0,0]])\n",
        "        english_sequence = tf.pad(english_sequence, paddings, mode=\"CONSTANT\", constant_values = constant_value_mask)[-13:,:]\n",
        "        return english_sequence, german_sequence\n",
        "\n",
        "    return dataset.map(pad_sequences)\n",
        "\n",
        "train_dataset = pad_english_sequences(train_dataset)\n",
        "validation_dataset = pad_english_sequences(validation_dataset)"
      ]
    },
    {
      "cell_type": "code",
      "execution_count": null,
      "metadata": {
        "id": "eBIbDvZJc5bC"
      },
      "outputs": [],
      "source": [
        "# Batch both datasets\n",
        "batch_size = 16\n",
        "\n",
        "train_dataset = train_dataset.batch(batch_size, drop_remainder=True)\n",
        "validation_dataset = validation_dataset.batch(batch_size, drop_remainder=True)"
      ]
    },
    {
      "cell_type": "code",
      "execution_count": null,
      "metadata": {
        "id": "QRh5Jqv6c5bC",
        "colab": {
          "base_uri": "https://localhost:8080/"
        },
        "outputId": "9c6c9d06-4bc3-4492-abd4-11ccdb4da923"
      },
      "outputs": [
        {
          "output_type": "stream",
          "name": "stdout",
          "text": [
            "(TensorSpec(shape=(16, None, 128), dtype=tf.float32, name=None), TensorSpec(shape=(16, 14), dtype=tf.int32, name=None))\n",
            "(TensorSpec(shape=(16, None, 128), dtype=tf.float32, name=None), TensorSpec(shape=(16, 14), dtype=tf.int32, name=None))\n",
            "English sample\n",
            "Shape:  (16, 13, 128)\n",
            "German sample\n",
            "Shape:  (16, 14)\n"
          ]
        }
      ],
      "source": [
        "# Print datasets metadata\n",
        "print(train_dataset.element_spec)\n",
        "print(validation_dataset.element_spec)\n",
        "\n",
        "# Take the first element from each dataset\n",
        "train_sample = next(iter(train_dataset.take(1)))\n",
        "validation_sample = next(iter(validation_dataset.take(1)))\n",
        "\n",
        "print(\"English sample\")\n",
        "print(\"Shape: \",train_sample[0].shape)\n",
        "\n",
        "print(\"German sample\")\n",
        "print(\"Shape: \",validation_sample[1].shape)"
      ]
    },
    {
      "cell_type": "markdown",
      "metadata": {
        "id": "gXIUi7PRc5bC"
      },
      "source": [
        "## 3. Create the custom layer\n",
        "You will now create a custom layer to add the learned end token embedding to the encoder model:\n",
        "\n",
        "![Encoder schematic](https://drive.google.com/uc?export=view&id=1L706rzyyE-k22d9awwz5Cpzks_Uq78mn)"
      ]
    },
    {
      "cell_type": "markdown",
      "metadata": {
        "id": "AElC4Vnmc5bC"
      },
      "source": [
        "You should now build the custom layer.\n",
        "* Using layer subclassing, create a custom layer that takes a batch of English data examples from one of the Datasets, and adds a learned embedded ‘end’ token to the end of each sequence.\n",
        "* This layer should create a TensorFlow Variable (that will be learned during training) that is 128-dimensional (the size of the embedding space). _Hint: you may find it helpful in the call method to use the tf.tile function to replicate the end token embedding across every element in the batch._\n",
        "* Using the Dataset `.take(1)` method, extract a batch of English data examples from the training Dataset and print the shape. Test the custom layer by calling the layer on the English data batch Tensor and print the resulting Tensor shape (the layer should increase the sequence length by one)."
      ]
    },
    {
      "cell_type": "code",
      "execution_count": null,
      "metadata": {
        "id": "koqnuxgfc5bC"
      },
      "outputs": [],
      "source": [
        "from tensorflow.keras.layers import Layer\n",
        "\n",
        "class EnglishLayer(Layer):\n",
        "    def __init__(self, **kwargs):\n",
        "        super(EnglishLayer, self).__init__(**kwargs)\n",
        "        self.learned_end_embed = tf.Variable(\n",
        "            tf.random.uniform(shape=(english_embedding_size,)),\n",
        "            trainable=True,\n",
        "        )\n",
        "\n",
        "    def call(self, inputs):\n",
        "        # Replicate matching the inputs batch size\n",
        "        expanded = tf.reshape(self.learned_end_embed, shape=(1,1,english_embedding_size))\n",
        "        replicated = tf.tile(expanded, tf.constant([inputs.shape[0], 1, 1]))\n",
        "        return tf.concat([inputs,replicated], axis=1)"
      ]
    },
    {
      "cell_type": "code",
      "execution_count": null,
      "metadata": {
        "id": "iZDl_GXic5bC"
      },
      "outputs": [],
      "source": [
        "layer = EnglishLayer()\n",
        "english_sample = next(iter(train_dataset.take(1)))[0]\n",
        "output = layer(english_sample)"
      ]
    },
    {
      "cell_type": "code",
      "execution_count": null,
      "metadata": {
        "id": "9Jjret3Oc5bC",
        "colab": {
          "base_uri": "https://localhost:8080/"
        },
        "outputId": "415e575f-3ee0-412e-bbe3-3a52d2be0814"
      },
      "outputs": [
        {
          "output_type": "stream",
          "name": "stdout",
          "text": [
            "(16, 14, 128)\n"
          ]
        }
      ],
      "source": [
        "# Test layer results\n",
        "print(output.shape)"
      ]
    },
    {
      "cell_type": "markdown",
      "metadata": {
        "id": "gyftWWzEc5bD"
      },
      "source": [
        "## 4. Build the encoder network\n",
        "The encoder network follows the schematic diagram above. You should now build the RNN encoder model.\n",
        "* Using the functional API, build the encoder network according to the following spec:\n",
        "    * The model will take a batch of sequences of embedded English words as input, as given by the Dataset objects.\n",
        "    * The next layer in the encoder will be the custom layer you created previously, to add a learned end token embedding to the end of the English sequence.\n",
        "    * This is followed by a Masking layer, with the `mask_value` set to the distinct padding value you used when you padded the English sequences with the Dataset preprocessing above.\n",
        "    * The final layer is an LSTM layer with 512 units, which also returns the hidden and cell states.\n",
        "    * The encoder is a multi-output model. There should be two output Tensors of this model: the hidden state and cell states of the LSTM layer. The output of the LSTM layer is unused.\n",
        "* Using the Dataset `.take(1)` method, extract a batch of English data examples from the training Dataset and test the encoder model by calling it on the English data Tensor, and print the shape of the resulting Tensor outputs.\n",
        "* Print the model summary for the encoder network."
      ]
    },
    {
      "cell_type": "code",
      "execution_count": null,
      "metadata": {
        "id": "Ku76see_c5bD"
      },
      "outputs": [],
      "source": [
        "from tensorflow.keras.layers import Input, Dense, Masking, LSTM\n",
        "from tensorflow.keras.models import Model"
      ]
    },
    {
      "cell_type": "code",
      "execution_count": null,
      "metadata": {
        "id": "7jKuFOXfc5bD"
      },
      "outputs": [],
      "source": [
        "# Build the model using function API\n",
        "lstm_cells_count = 512\n",
        "\n",
        "inputs = Input(shape=(sequence_length, english_embedding_size), batch_size=batch_size, name=\"encoder_input\")\n",
        "x = EnglishLayer(name=\"encoder_embedding\")(inputs)\n",
        "x = Masking(mask_value=constant_value_mask, name=\"encoder_masking\")(x)\n",
        "_, hidden_states, cell_states = LSTM(lstm_cells_count, return_state=True, name=\"encoder_lstm\")(x)\n",
        "encoder_model = Model(inputs=inputs, outputs=[cell_states, hidden_states])"
      ]
    },
    {
      "cell_type": "code",
      "execution_count": null,
      "metadata": {
        "id": "7PEOd38tc5bD"
      },
      "outputs": [],
      "source": [
        "english_sample = next(iter(train_dataset.take(1)))[0]"
      ]
    },
    {
      "cell_type": "code",
      "execution_count": null,
      "metadata": {
        "id": "syEKX7moc5bD"
      },
      "outputs": [],
      "source": [
        "output = encoder_model(english_sample)"
      ]
    },
    {
      "cell_type": "code",
      "execution_count": null,
      "metadata": {
        "id": "jPRXHzdZc5bD",
        "colab": {
          "base_uri": "https://localhost:8080/"
        },
        "outputId": "944f3f2d-0f63-4cfb-f290-0784bf4f6714"
      },
      "outputs": [
        {
          "output_type": "stream",
          "name": "stdout",
          "text": [
            "(16, 512) (16, 512)\n"
          ]
        }
      ],
      "source": [
        "# Get outputs shapes\n",
        "\n",
        "print(output[0].shape, output[1].shape)"
      ]
    },
    {
      "cell_type": "code",
      "execution_count": null,
      "metadata": {
        "id": "LNwvWCN1c5bS",
        "colab": {
          "base_uri": "https://localhost:8080/"
        },
        "outputId": "163ee4c7-9434-40e5-e90c-4aab6dbd7ac8"
      },
      "outputs": [
        {
          "output_type": "stream",
          "name": "stdout",
          "text": [
            "Model: \"model_3\"\n",
            "_________________________________________________________________\n",
            " Layer (type)                Output Shape              Param #   \n",
            "=================================================================\n",
            " encoder_input (InputLayer)  [(16, 13, 128)]           0         \n",
            "                                                                 \n",
            " encoder_embedding (English  (16, 14, 128)             128       \n",
            " Layer)                                                          \n",
            "                                                                 \n",
            " encoder_masking (Masking)   (16, 14, 128)             0         \n",
            "                                                                 \n",
            " encoder_lstm (LSTM)         [(16, 512),               1312768   \n",
            "                              (16, 512),                         \n",
            "                              (16, 512)]                         \n",
            "                                                                 \n",
            "=================================================================\n",
            "Total params: 1312896 (5.01 MB)\n",
            "Trainable params: 1312896 (5.01 MB)\n",
            "Non-trainable params: 0 (0.00 Byte)\n",
            "_________________________________________________________________\n"
          ]
        }
      ],
      "source": [
        "encoder_model.summary()"
      ]
    },
    {
      "cell_type": "markdown",
      "metadata": {
        "id": "SEzJRaoLc5bS"
      },
      "source": [
        "## 5. Build the decoder network\n",
        "The decoder network follows the schematic diagram below.\n",
        "\n",
        "![Decoder schematic](https://drive.google.com/uc?export=view&id=1Ws1NUdVfWZoZ2egaaW5thSh9uH1T40fz)"
      ]
    },
    {
      "cell_type": "markdown",
      "metadata": {
        "id": "oj8OKZwzc5bS"
      },
      "source": [
        "You should now build the RNN decoder model.\n",
        "* Using Model subclassing, build the decoder network according to the following spec:\n",
        "    * The initializer should create the following layers:\n",
        "        * An Embedding layer with vocabulary size set to the number of unique German tokens, embedding dimension 128, and set to mask zero values in the input.\n",
        "        * An LSTM layer with 512 units, that returns its hidden and cell states, and also returns sequences.\n",
        "        * A Dense layer with number of units equal to the number of unique German tokens, and no activation function.\n",
        "    * The call method should include the usual `inputs` argument, as well as the additional keyword arguments `hidden_state` and `cell_state`. The default value for these keyword arguments should be `None`.\n",
        "    * The call method should pass the inputs through the Embedding layer, and then through the LSTM layer. If the `hidden_state` and `cell_state` arguments are provided, these should be used for the initial state of the LSTM layer. _Hint: use the_ `initial_state` _keyword argument when calling the LSTM layer on its input._\n",
        "    * The call method should pass the LSTM output sequence through the Dense layer, and return the resulting Tensor, along with the hidden and cell states of the LSTM layer.\n",
        "* Using the Dataset `.take(1)` method, extract a batch of English and German data examples from the training Dataset. Test the decoder model by first calling the encoder model on the English data Tensor to get the hidden and cell states, and then call the decoder model on the German data Tensor and hidden and cell states, and print the shape of the resulting decoder Tensor outputs.\n",
        "* Print the model summary for the decoder network."
      ]
    },
    {
      "cell_type": "code",
      "execution_count": null,
      "metadata": {
        "id": "xHZOT4iGc5bT"
      },
      "outputs": [],
      "source": [
        "# 0 is a reserved index according to tokenizer docs, so its like an additional\n",
        "# to take into account\n",
        "vocab_size = len(german_tokenizer.word_counts) + 1\n",
        "german_embedding_size = 128"
      ]
    },
    {
      "cell_type": "code",
      "execution_count": null,
      "metadata": {
        "id": "98JTmlrXc5bT"
      },
      "outputs": [],
      "source": [
        "from tensorflow.keras.layers import Embedding, Dense, LSTM"
      ]
    },
    {
      "cell_type": "code",
      "execution_count": null,
      "metadata": {
        "id": "045nCV9yc5bT"
      },
      "outputs": [],
      "source": [
        "class DecoderModel(Model):\n",
        "    def __init__(self, vocab_size, embedding_size):\n",
        "        super(DecoderModel, self).__init__()\n",
        "        self.embedding_1 = Embedding(input_dim=vocab_size, output_dim=embedding_size, mask_zero=True, name=\"decoder_embedding\")\n",
        "        self.lstm_1 = LSTM(lstm_cells_count, return_state=True, return_sequences=True, name=\"decoder_lstm\")\n",
        "        self.dense_1 = Dense(vocab_size, name=\"decoder_dense\")\n",
        "\n",
        "    def call(self, inputs, hidden_state=None, cell_state=None):\n",
        "        x = self.embedding_1(inputs)\n",
        "        sequences, hidden_result, state_result = self.lstm_1(\n",
        "            inputs=x,\n",
        "            initial_state=None if hidden_state is None or cell_state is None else [hidden_state, cell_state]\n",
        "        )\n",
        "        x = self.dense_1(sequences)\n",
        "        return x, hidden_result, state_result\n"
      ]
    },
    {
      "cell_type": "code",
      "execution_count": null,
      "metadata": {
        "id": "DMxRwpuVc5bT"
      },
      "outputs": [],
      "source": [
        "decoder_model = DecoderModel(vocab_size, german_embedding_size)"
      ]
    },
    {
      "cell_type": "code",
      "execution_count": null,
      "metadata": {
        "id": "_6MTc9gPc5bT"
      },
      "outputs": [],
      "source": [
        "english_sample, german_sample = next(iter(train_dataset.take(1)))"
      ]
    },
    {
      "cell_type": "code",
      "execution_count": null,
      "metadata": {
        "id": "uOdf04igc5bT"
      },
      "outputs": [],
      "source": [
        "encoded_hidden, encoded_state = encoder_model(english_sample)\n",
        "decoded_sequences, hidden_result, state_result = decoder_model(german_sample, encoded_hidden, encoded_state)"
      ]
    },
    {
      "cell_type": "code",
      "execution_count": null,
      "metadata": {
        "id": "gD978fG5c5bT",
        "colab": {
          "base_uri": "https://localhost:8080/"
        },
        "outputId": "80c025fb-b2b5-47d7-bb24-a04a2aa499a8"
      },
      "outputs": [
        {
          "output_type": "stream",
          "name": "stdout",
          "text": [
            "(16, 14, 5745)\n",
            "(16, 512)\n",
            "(16, 512)\n"
          ]
        }
      ],
      "source": [
        "# For each timestep, print its output\n",
        "print(decoded_sequences.shape)\n",
        "\n",
        "# Cell states for each sample\n",
        "print(hidden_result.shape)\n",
        "print(state_result.shape)"
      ]
    },
    {
      "cell_type": "markdown",
      "metadata": {
        "id": "SY6lVXrvc5bT"
      },
      "source": [
        "## 6. Make a custom training loop\n",
        "You should now write a custom training loop to train your custom neural translation model.\n",
        "* Define a function that takes a Tensor batch of German data (as extracted from the training Dataset), and returns a tuple containing German inputs and outputs for the decoder model (refer to schematic diagram above).\n",
        "* Define a function that computes the forward and backward pass for your translation model. This function should take an English input, German input and German output as arguments, and should do the following:\n",
        "    * Pass the English input into the encoder, to get the hidden and cell states of the encoder LSTM.\n",
        "    * These hidden and cell states are then passed into the decoder, along with the German inputs, which returns a sequence of outputs (the hidden and cell state outputs of the decoder LSTM are unused in this function).\n",
        "    * The loss should then be computed between the decoder outputs and the German output function argument.\n",
        "    * The function returns the loss and gradients with respect to the encoder and decoder’s trainable variables.\n",
        "    * Decorate the function with @tf.function\n",
        "* Define and run a custom training loop for a number of epochs (for you to choose) that does the following:\n",
        "    * Iterates through the training dataset, and creates decoder inputs and outputs from the German sequences.\n",
        "    * Updates the parameters of the translation model using the gradients of the function above and an optimizer object.\n",
        "    * Every epoch, compute the validation loss on a number of batches from the validation and save the epoch training and validation losses.\n",
        "* Plot the learning curves for loss vs epoch for both training and validation sets.\n",
        "\n",
        "_Hint: This model is computationally demanding to train. The quality of the model or length of training is not a factor in the grading rubric. However, to obtain a better model we recommend using the GPU accelerator hardware on Colab._"
      ]
    },
    {
      "cell_type": "code",
      "execution_count": null,
      "metadata": {
        "id": "KfqFCV8vc5bU"
      },
      "outputs": [],
      "source": [
        "def shift_german_sequence(batched_raw_sequence):\n",
        "    return (\n",
        "        batched_raw_sequence[:,:-1],\n",
        "        batched_raw_sequence[:,1:]\n",
        "    )"
      ]
    },
    {
      "cell_type": "code",
      "execution_count": null,
      "metadata": {
        "id": "hR2dzc4oc5bU"
      },
      "outputs": [],
      "source": [
        "from tensorflow.keras.losses import sparse_categorical_crossentropy\n",
        "\n",
        "@tf.function\n",
        "def grad(english_sequence, german_input_sequence, german_output_sequence):\n",
        "\n",
        "    with tf.GradientTape() as tape:\n",
        "        encoder_hidden_state, encoder_cell_state = encoder_model(english_sequence)\n",
        "        sequences_results, decoder_hidden_state, decoder_cell_state = decoder_model(\n",
        "            german_input_sequence, encoder_hidden_state, encoder_cell_state\n",
        "        )\n",
        "        loss = sparse_categorical_crossentropy(german_output_sequence, sequences_results, from_logits=True)\n",
        "        grads_encoder, grads_decoder = tape.gradient(loss,[\n",
        "            encoder_model.trainable_variables,\n",
        "            decoder_model.trainable_variables\n",
        "        ])\n",
        "        return (loss, grads_encoder, grads_decoder, sequences_results)"
      ]
    },
    {
      "cell_type": "code",
      "execution_count": null,
      "metadata": {
        "id": "COA0Q2vec5bU",
        "colab": {
          "base_uri": "https://localhost:8080/"
        },
        "outputId": "0d982965-8cb5-4afe-f613-cdf5ddd43084"
      },
      "outputs": [
        {
          "output_type": "stream",
          "name": "stdout",
          "text": [
            "\n",
            "      Epoch: 0 \n",
            "      Loss: 2.3544509410858154 \n",
            "      Accuracy: 0.8336730599403381 \n",
            "      Val Loss: 2.1725409030914307 \n",
            "      Val Accuracy: 0.613653838634491\n",
            "      \n",
            "\n",
            "\n",
            "    \n",
            "\n",
            "      Epoch: 1 \n",
            "      Loss: 1.4855645895004272 \n",
            "      Accuracy: 0.8523269295692444 \n",
            "      Val Loss: 1.661264419555664 \n",
            "      Val Accuracy: 0.6130961775779724\n",
            "      \n",
            "\n",
            "\n",
            "    \n",
            "\n",
            "      Epoch: 2 \n",
            "      Loss: 0.9609381556510925 \n",
            "      Accuracy: 0.8718653917312622 \n",
            "      Val Loss: 1.403188943862915 \n",
            "      Val Accuracy: 0.6129230856895447\n",
            "      \n",
            "\n",
            "\n",
            "    \n",
            "\n",
            "      Epoch: 3 \n",
            "      Loss: 0.6655418872833252 \n",
            "      Accuracy: 0.8887403607368469 \n",
            "      Val Loss: 1.281169056892395 \n",
            "      Val Accuracy: 0.6088269352912903\n",
            "      \n",
            "\n",
            "\n",
            "    \n",
            "\n",
            "      Epoch: 4 \n",
            "      Loss: 0.49694594740867615 \n",
            "      Accuracy: 0.9032403826713562 \n",
            "      Val Loss: 1.2228608131408691 \n",
            "      Val Accuracy: 0.6103269457817078\n",
            "      \n",
            "\n",
            "\n",
            "    \n"
          ]
        }
      ],
      "source": [
        "from tensorflow.keras.optimizers.legacy import Adam\n",
        "from tensorflow.keras.metrics import Mean, CategoricalAccuracy\n",
        "from tensorflow.keras.utils import to_categorical\n",
        "\n",
        "optimizer = Adam()\n",
        "epochs = 5\n",
        "train_losses_per_epoch = []\n",
        "train_accuracies_per_epoch = []\n",
        "\n",
        "val_losses_per_epoch = []\n",
        "val_accuracies_per_epoch = []\n",
        "\n",
        "for epoch in range(epochs):\n",
        "    train_loss_metric = Mean()\n",
        "    train_acc_metric = CategoricalAccuracy()\n",
        "\n",
        "    # Perform training\n",
        "    for english_sequence, german_sequence in train_dataset:\n",
        "        german_in_sequence, german_out_sequence = shift_german_sequence(german_sequence)\n",
        "        loss_value, grads_encoder, grads_decoder, predicted_results = grad(\n",
        "            english_sequence, german_in_sequence, german_out_sequence\n",
        "        )\n",
        "\n",
        "        optimizer.apply_gradients(zip(grads_encoder, encoder_model.trainable_variables))\n",
        "        optimizer.apply_gradients(zip(grads_decoder, decoder_model.trainable_variables))\n",
        "\n",
        "        train_loss_metric(loss_value)\n",
        "        train_acc_metric(to_categorical(german_out_sequence), predicted_results)\n",
        "\n",
        "    train_losses_per_epoch.append(train_loss_metric.result())\n",
        "    train_accuracies_per_epoch.append(train_acc_metric.result())\n",
        "\n",
        "    val_loss_metric = Mean()\n",
        "    val_acc_metric = CategoricalAccuracy()\n",
        "\n",
        "    # Perform validation\n",
        "    for english_sequence, german_sequence in validation_dataset:\n",
        "        german_in_sequence, german_out_sequence = shift_german_sequence(german_sequence)\n",
        "        encoder_hidden_state, encoder_cell_state = encoder_model(english_sequence)\n",
        "        sequences_results, decoder_hidden_state, decoder_cell_state = decoder_model(\n",
        "            german_in_sequence, encoder_hidden_state, encoder_cell_state\n",
        "        )\n",
        "        loss_value = sparse_categorical_crossentropy(german_out_sequence, sequences_results, from_logits=True)\n",
        "\n",
        "        val_loss_metric(loss_value)\n",
        "        val_acc_metric(to_categorical(german_out_sequence), predicted_results)\n",
        "\n",
        "    val_losses_per_epoch.append(val_loss_metric.result())\n",
        "    val_accuracies_per_epoch.append(val_acc_metric.result())\n",
        "\n",
        "    print(f\"\"\"\n",
        "      Epoch: {epoch}\n",
        "      Loss: {train_loss_metric.result()}\n",
        "      Accuracy: {train_acc_metric.result()}\n",
        "      Val Loss: {val_loss_metric.result()}\n",
        "      Val Accuracy: {val_acc_metric.result()}\n",
        "      \\n\\n\n",
        "    \"\"\")"
      ]
    },
    {
      "cell_type": "code",
      "execution_count": null,
      "metadata": {
        "id": "V0ol3aRJc5bU",
        "colab": {
          "base_uri": "https://localhost:8080/",
          "height": 713
        },
        "outputId": "26e9d105-4f0a-4d92-bc57-92fa431a0027"
      },
      "outputs": [
        {
          "output_type": "execute_result",
          "data": {
            "text/plain": [
              "[<matplotlib.lines.Line2D at 0x7e68c1b94a60>]"
            ]
          },
          "metadata": {},
          "execution_count": 171
        },
        {
          "output_type": "display_data",
          "data": {
            "text/plain": [
              "<Figure size 1300x800 with 4 Axes>"
            ],
            "image/png": "[encoded data removed]"
          },
          "metadata": {}
        }
      ],
      "source": [
        "import matplotlib.pyplot as plt\n",
        "\n",
        "fig, axes = plt.subplots(2,2, figsize=(13,8))\n",
        "\n",
        "axes[0,0].set_xlabel(\"Epochs\")\n",
        "axes[0,0].set_ylabel(\"Loss\")\n",
        "axes[0,0].plot(train_losses_per_epoch)\n",
        "\n",
        "axes[0,1].set_xlabel(\"Epochs\")\n",
        "axes[0,1].set_ylabel(\"Accuracy\")\n",
        "axes[0,1].plot(train_accuracies_per_epoch)\n",
        "\n",
        "axes[1,0].set_xlabel(\"Epochs\")\n",
        "axes[1,0].set_ylabel(\"Validation Loss\")\n",
        "axes[1,0].plot(val_losses_per_epoch)\n",
        "\n",
        "axes[1,1].set_xlabel(\"Epochs\")\n",
        "axes[1,1].set_ylabel(\"Validation Accuracy\")\n",
        "axes[1,1].plot(val_accuracies_per_epoch)"
      ]
    },
    {
      "cell_type": "markdown",
      "metadata": {
        "id": "5d0Y2Dsoc5bU"
      },
      "source": [
        "## 7. Use the model to translate\n",
        "Now it's time to put your model into practice! You should run your translation for five randomly sampled English sentences from the dataset. For each sentence, the process is as follows:\n",
        "* Preprocess and embed the English sentence according to the model requirements.\n",
        "* Pass the embedded sentence through the encoder to get the encoder hidden and cell states.\n",
        "* Starting with the special  `\"<start>\"` token, use this token and the final encoder hidden and cell states to get the one-step prediction from the decoder, as well as the decoder’s updated hidden and cell states.\n",
        "* Create a loop to get the next step prediction and updated hidden and cell states from the decoder, using the most recent hidden and cell states. Terminate the loop when the `\"<end>\"` token is emitted, or when the sentence has reached a maximum length.\n",
        "* Decode the output token sequence into German text and print the English text and the model's German translation."
      ]
    },
    {
      "cell_type": "code",
      "execution_count": null,
      "metadata": {
        "id": "fjYLBumPc5bU",
        "colab": {
          "base_uri": "https://localhost:8080/"
        },
        "outputId": "bdc323a2-b81f-40b7-ed7d-febf41915d17"
      },
      "outputs": [
        {
          "output_type": "stream",
          "name": "stdout",
          "text": [
            "English sentence:  tom resigned .\n",
            "Predicted german sentence:  tom hat aufgehoert .\n",
            "Expected german sentence:  tom trat zurueck .\n",
            "\n",
            "English sentence:  we get on ok .\n",
            "Predicted german sentence:  wir muessen loslegen .\n",
            "Expected german sentence:  wir verstehen uns gut .\n",
            "\n",
            "English sentence:  we'll find tom .\n",
            "Predicted german sentence:  wir werden tom vermissen .\n",
            "Expected german sentence:  wir werden tom finden .\n",
            "\n",
            "English sentence:  give me five days .\n",
            "Predicted german sentence:  gib mir das buch .\n",
            "Expected german sentence:  gib mir fuenf tage .\n",
            "\n",
            "English sentence:  i never asked tom .\n",
            "Predicted german sentence:  ich habe tom nie gemocht .\n",
            "Expected german sentence:  ich habe tom nie gefragt .\n",
            "\n"
          ]
        }
      ],
      "source": [
        "num_sentences = len(english_sentences)\n",
        "sample_size = 5\n",
        "\n",
        "indices = np.random.choice(list(range(num_sentences)), size=sample_size, replace=False)\n",
        "\n",
        "layer = EnglishLayer()\n",
        "\n",
        "german_start_token = german_tokenizer.word_index[\"<start>\"]\n",
        "german_end_token = german_tokenizer.word_index[\"<end>\"]\n",
        "\n",
        "german_id2word = {value:key for key, value in german_tokenizer.word_index.items()}\n",
        "\n",
        "maximum_length = 15\n",
        "\n",
        "for index in indices:\n",
        "    english_sample = english_sentences[index]\n",
        "    german_sample = german_sentences[index]\n",
        "\n",
        "    english_sequence = tf.strings.split(english_sample)\n",
        "    english_sequence = embedding_layer(english_sequence)\n",
        "\n",
        "    paddings = tf.constant([[13,0],[0,0]])\n",
        "    english_sequence = tf.pad(english_sequence, paddings, mode=\"CONSTANT\", constant_values = constant_value_mask)[-13:,:]\n",
        "    english_sequence = tf.expand_dims(english_sequence, 0)\n",
        "\n",
        "    hidden_states, cell_states = encoder_model(english_sequence)\n",
        "\n",
        "    decoder_input = tf.constant([[german_start_token]])\n",
        "\n",
        "    german_sentence = []\n",
        "\n",
        "    while True:\n",
        "        sequences, hidden_states, cell_states = decoder_model(\n",
        "            decoder_input, hidden_states, cell_states\n",
        "        )\n",
        "\n",
        "        predicted_token = np.argmax(sequences[0,0], axis=0)\n",
        "\n",
        "        german_word = german_id2word[predicted_token]\n",
        "        german_sentence.append(german_word)\n",
        "\n",
        "        decoder_input = tf.constant([[predicted_token]])\n",
        "\n",
        "        if decoder_input == german_end_token or len(german_sentence) > maximum_length:\n",
        "          break\n",
        "\n",
        "    print(\"English sentence: \", english_sample)\n",
        "    print(\"Predicted german sentence: \", \" \".join(german_sentence[:-1]))\n",
        "    print(\"Expected german sentence: \", \" \".join(german_sample.split()[1:-1]))\n",
        "    print()"
      ]
    }
  ],
  "metadata": {
    "kernelspec": {
      "display_name": "Python 3",
      "name": "python3"
    },
    "language_info": {
      "codemirror_mode": {
        "name": "ipython",
        "version": 3
      },
      "file_extension": ".py",
      "mimetype": "text/x-python",
      "name": "python",
      "nbconvert_exporter": "python",
      "pygments_lexer": "ipython3",
      "version": "3.7.1"
    },
    "colab": {
      "provenance": [],
      "gpuType": "T4"
    },
    "accelerator": "GPU"
  },
  "nbformat": 4,
  "nbformat_minor": 0
}